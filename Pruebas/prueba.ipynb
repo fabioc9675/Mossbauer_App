{
 "cells": [
  {
   "cell_type": "code",
   "execution_count": 2,
   "metadata": {},
   "outputs": [],
   "source": [
    "import tensorflow as tf\n",
    "import numpy as np"
   ]
  },
  {
   "cell_type": "code",
   "execution_count": 3,
   "metadata": {},
   "outputs": [
    {
     "name": "stderr",
     "output_type": "stream",
     "text": [
      "C:\\Users\\fabian.castano\\AppData\\Local\\Packages\\PythonSoftwareFoundation.Python.3.10_qbz5n2kfra8p0\\LocalCache\\local-packages\\Python310\\site-packages\\keras\\saving\\saved_model\\load.py:107: RuntimeWarning: Unexpected end-group tag: Not all data was converted\n",
      "  metadata.ParseFromString(file_content)\n"
     ]
    }
   ],
   "source": [
    "pre_model = tf.keras.models.load_model(\"Mossbauer_model\")"
   ]
  },
  {
   "cell_type": "code",
   "execution_count": 3,
   "metadata": {},
   "outputs": [],
   "source": [
    "pre_model.save('Mossbauer_model.h5')"
   ]
  },
  {
   "cell_type": "code",
   "execution_count": 1,
   "metadata": {},
   "outputs": [
    {
     "name": "stdout",
     "output_type": "stream",
     "text": [
      "^C\n"
     ]
    },
    {
     "name": "stdout",
     "output_type": "stream",
     "text": [
      "Collecting tensorflowjs\n",
      "  Downloading tensorflowjs-4.10.0-py3-none-any.whl (89 kB)\n",
      "     ---------------------------------------- 89.2/89.2 kB 1.7 MB/s eta 0:00:00\n",
      "Collecting flax<0.6.3,>=0.6.2 (from tensorflowjs)\n",
      "  Downloading flax-0.6.2-py3-none-any.whl (189 kB)\n",
      "     -------------------------------------- 189.9/189.9 kB 2.9 MB/s eta 0:00:00\n",
      "Collecting importlib_resources>=5.9.0 (from tensorflowjs)\n",
      "  Downloading importlib_resources-6.0.0-py3-none-any.whl (31 kB)\n",
      "Collecting jax>=0.3.16 (from tensorflowjs)\n",
      "  Downloading jax-0.4.14.tar.gz (1.3 MB)\n",
      "     ---------------------------------------- 1.3/1.3 MB 1.8 MB/s eta 0:00:00\n",
      "  Installing build dependencies: started\n",
      "  Installing build dependencies: finished with status 'done'\n",
      "  Getting requirements to build wheel: started\n",
      "  Getting requirements to build wheel: finished with status 'done'\n",
      "  Preparing metadata (pyproject.toml): started\n",
      "  Preparing metadata (pyproject.toml): finished with status 'done'\n",
      "Collecting tensorflow<3,>=2.12.0 (from tensorflowjs)\n",
      "  Downloading tensorflow-2.13.0-cp310-cp310-win_amd64.whl (1.9 kB)\n",
      "INFO: pip is looking at multiple versions of tensorflowjs to determine which version is compatible with other requirements. This could take a while.\n",
      "Collecting tensorflowjs\n",
      "  Downloading tensorflowjs-4.9.0-py3-none-any.whl (89 kB)\n",
      "     ---------------------------------------- 89.0/89.0 kB 1.7 MB/s eta 0:00:00\n",
      "  Downloading tensorflowjs-4.8.0-py3-none-any.whl (85 kB)\n",
      "     ---------------------------------------- 85.1/85.1 kB 2.4 MB/s eta 0:00:00\n",
      "  Downloading tensorflowjs-4.7.0-py3-none-any.whl (85 kB)\n",
      "     ---------------------------------------- 85.1/85.1 kB 1.2 MB/s eta 0:00:00\n",
      "  Downloading tensorflowjs-4.6.0-py3-none-any.whl (85 kB)\n",
      "     ---------------------------------------- 85.1/85.1 kB 2.4 MB/s eta 0:00:00\n",
      "  Downloading tensorflowjs-4.5.0-py3-none-any.whl (85 kB)\n",
      "     ---------------------------------------- 85.1/85.1 kB 1.2 MB/s eta 0:00:00\n",
      "  Downloading tensorflowjs-4.4.0-py3-none-any.whl (85 kB)\n",
      "     ---------------------------------------- 85.1/85.1 kB 1.6 MB/s eta 0:00:00\n",
      "Collecting flax>=0.6.2 (from tensorflowjs)\n",
      "  Downloading flax-0.7.1-py3-none-any.whl (226 kB)\n",
      "     ------------------------------------ 226.6/226.6 kB 992.5 kB/s eta 0:00:00\n",
      "Requirement already satisfied: protobuf<3.20,>=3.9.2 in c:\\users\\fabian.castano\\appdata\\local\\packages\\pythonsoftwarefoundation.python.3.10_qbz5n2kfra8p0\\localcache\\local-packages\\python310\\site-packages (from tensorflowjs) (3.19.6)\n",
      "Requirement already satisfied: tensorflow<3,>=2.10.0 in c:\\users\\fabian.castano\\appdata\\local\\packages\\pythonsoftwarefoundation.python.3.10_qbz5n2kfra8p0\\localcache\\local-packages\\python310\\site-packages (from tensorflowjs) (2.10.0)\n",
      "Collecting tensorflowjs\n",
      "  Downloading tensorflowjs-4.3.0-py3-none-any.whl (85 kB)\n",
      "     ---------------------------------------- 85.1/85.1 kB 1.2 MB/s eta 0:00:00\n",
      "INFO: pip is looking at multiple versions of tensorflowjs to determine which version is compatible with other requirements. This could take a while.\n",
      "  Downloading tensorflowjs-4.2.0-py3-none-any.whl (84 kB)\n",
      "     ---------------------------------------- 84.5/84.5 kB 1.6 MB/s eta 0:00:00\n",
      "  Downloading tensorflowjs-4.1.0-py3-none-any.whl (84 kB)\n",
      "     ---------------------------------------- 84.2/84.2 kB 1.6 MB/s eta 0:00:00\n",
      "  Downloading tensorflowjs-4.0.0-py3-none-any.whl (83 kB)\n",
      "     ---------------------------------------- 83.7/83.7 kB 1.6 MB/s eta 0:00:00\n",
      "  Downloading tensorflowjs-3.21.0-py3-none-any.whl (81 kB)\n",
      "     ---------------------------------------- 81.2/81.2 kB 2.2 MB/s eta 0:00:00\n",
      "Requirement already satisfied: six<2,>=1.12.0 in c:\\users\\fabian.castano\\appdata\\local\\packages\\pythonsoftwarefoundation.python.3.10_qbz5n2kfra8p0\\localcache\\local-packages\\python310\\site-packages (from tensorflowjs) (1.16.0)\n",
      "Collecting tensorflow-hub<0.13,>=0.7.0 (from tensorflowjs)\n",
      "  Downloading tensorflow_hub-0.12.0-py2.py3-none-any.whl (108 kB)\n",
      "     -------------------------------------- 108.8/108.8 kB 2.1 MB/s eta 0:00:00\n",
      "Collecting packaging~=20.9 (from tensorflowjs)\n",
      "  Downloading packaging-20.9-py2.py3-none-any.whl (40 kB)\n",
      "     -------------------------------------- 40.9/40.9 kB 988.1 kB/s eta 0:00:00\n",
      "Requirement already satisfied: numpy>=1.12 in c:\\users\\fabian.castano\\appdata\\local\\packages\\pythonsoftwarefoundation.python.3.10_qbz5n2kfra8p0\\localcache\\local-packages\\python310\\site-packages (from flax>=0.6.2->tensorflowjs) (1.23.4)\n",
      "Collecting msgpack (from flax>=0.6.2->tensorflowjs)\n",
      "  Downloading msgpack-1.0.5-cp310-cp310-win_amd64.whl (61 kB)\n",
      "     ---------------------------------------- 61.6/61.6 kB 1.1 MB/s eta 0:00:00\n",
      "Collecting optax (from flax>=0.6.2->tensorflowjs)\n",
      "  Downloading optax-0.1.7-py3-none-any.whl (154 kB)\n",
      "     -------------------------------------- 154.1/154.1 kB 1.8 MB/s eta 0:00:00\n",
      "Collecting orbax-checkpoint (from flax>=0.6.2->tensorflowjs)\n",
      "  Downloading orbax_checkpoint-0.3.2-py3-none-any.whl (95 kB)\n",
      "     ---------------------------------------- 95.2/95.2 kB 1.8 MB/s eta 0:00:00\n",
      "Collecting tensorstore (from flax>=0.6.2->tensorflowjs)\n",
      "  Downloading tensorstore-0.1.40-cp310-cp310-win_amd64.whl (10.0 MB)\n",
      "     ---------------------------------------- 10.0/10.0 MB 1.5 MB/s eta 0:00:00\n",
      "Collecting rich>=11.1 (from flax>=0.6.2->tensorflowjs)\n",
      "  Downloading rich-13.5.2-py3-none-any.whl (239 kB)\n",
      "     -------------------------------------- 239.7/239.7 kB 2.1 MB/s eta 0:00:00\n",
      "Requirement already satisfied: typing-extensions>=4.1.1 in c:\\users\\fabian.castano\\appdata\\local\\packages\\pythonsoftwarefoundation.python.3.10_qbz5n2kfra8p0\\localcache\\local-packages\\python310\\site-packages (from flax>=0.6.2->tensorflowjs) (4.4.0)\n",
      "Collecting PyYAML>=5.4.1 (from flax>=0.6.2->tensorflowjs)\n",
      "  Downloading PyYAML-6.0.1-cp310-cp310-win_amd64.whl (145 kB)\n",
      "     -------------------------------------- 145.3/145.3 kB 1.7 MB/s eta 0:00:00\n",
      "Collecting ml-dtypes>=0.2.0 (from jax>=0.3.16->tensorflowjs)\n",
      "  Using cached ml_dtypes-0.2.0-cp310-cp310-win_amd64.whl (938 kB)\n",
      "Requirement already satisfied: opt-einsum in c:\\users\\fabian.castano\\appdata\\local\\packages\\pythonsoftwarefoundation.python.3.10_qbz5n2kfra8p0\\localcache\\local-packages\\python310\\site-packages (from jax>=0.3.16->tensorflowjs) (3.3.0)\n",
      "Requirement already satisfied: scipy>=1.7 in c:\\users\\fabian.castano\\appdata\\local\\packages\\pythonsoftwarefoundation.python.3.10_qbz5n2kfra8p0\\localcache\\local-packages\\python310\\site-packages (from jax>=0.3.16->tensorflowjs) (1.9.2)\n",
      "Requirement already satisfied: pyparsing>=2.0.2 in c:\\users\\fabian.castano\\appdata\\local\\packages\\pythonsoftwarefoundation.python.3.10_qbz5n2kfra8p0\\localcache\\local-packages\\python310\\site-packages (from packaging~=20.9->tensorflowjs) (3.0.9)\n",
      "Requirement already satisfied: absl-py>=1.0.0 in c:\\users\\fabian.castano\\appdata\\local\\packages\\pythonsoftwarefoundation.python.3.10_qbz5n2kfra8p0\\localcache\\local-packages\\python310\\site-packages (from tensorflow<3,>=2.10.0->tensorflowjs) (1.3.0)\n",
      "Requirement already satisfied: astunparse>=1.6.0 in c:\\users\\fabian.castano\\appdata\\local\\packages\\pythonsoftwarefoundation.python.3.10_qbz5n2kfra8p0\\localcache\\local-packages\\python310\\site-packages (from tensorflow<3,>=2.10.0->tensorflowjs) (1.6.3)\n",
      "Requirement already satisfied: flatbuffers>=2.0 in c:\\users\\fabian.castano\\appdata\\local\\packages\\pythonsoftwarefoundation.python.3.10_qbz5n2kfra8p0\\localcache\\local-packages\\python310\\site-packages (from tensorflow<3,>=2.10.0->tensorflowjs) (22.9.24)\n",
      "Requirement already satisfied: gast<=0.4.0,>=0.2.1 in c:\\users\\fabian.castano\\appdata\\local\\packages\\pythonsoftwarefoundation.python.3.10_qbz5n2kfra8p0\\localcache\\local-packages\\python310\\site-packages (from tensorflow<3,>=2.10.0->tensorflowjs) (0.4.0)\n",
      "Requirement already satisfied: google-pasta>=0.1.1 in c:\\users\\fabian.castano\\appdata\\local\\packages\\pythonsoftwarefoundation.python.3.10_qbz5n2kfra8p0\\localcache\\local-packages\\python310\\site-packages (from tensorflow<3,>=2.10.0->tensorflowjs) (0.2.0)\n",
      "Requirement already satisfied: h5py>=2.9.0 in c:\\users\\fabian.castano\\appdata\\local\\packages\\pythonsoftwarefoundation.python.3.10_qbz5n2kfra8p0\\localcache\\local-packages\\python310\\site-packages (from tensorflow<3,>=2.10.0->tensorflowjs) (3.7.0)\n",
      "Requirement already satisfied: keras-preprocessing>=1.1.1 in c:\\users\\fabian.castano\\appdata\\local\\packages\\pythonsoftwarefoundation.python.3.10_qbz5n2kfra8p0\\localcache\\local-packages\\python310\\site-packages (from tensorflow<3,>=2.10.0->tensorflowjs) (1.1.2)\n",
      "Requirement already satisfied: libclang>=13.0.0 in c:\\users\\fabian.castano\\appdata\\local\\packages\\pythonsoftwarefoundation.python.3.10_qbz5n2kfra8p0\\localcache\\local-packages\\python310\\site-packages (from tensorflow<3,>=2.10.0->tensorflowjs) (14.0.6)\n",
      "Requirement already satisfied: setuptools in c:\\program files\\windowsapps\\pythonsoftwarefoundation.python.3.10_3.10.3056.0_x64__qbz5n2kfra8p0\\lib\\site-packages (from tensorflow<3,>=2.10.0->tensorflowjs) (65.5.0)\n",
      "Requirement already satisfied: termcolor>=1.1.0 in c:\\users\\fabian.castano\\appdata\\local\\packages\\pythonsoftwarefoundation.python.3.10_qbz5n2kfra8p0\\localcache\\local-packages\\python310\\site-packages (from tensorflow<3,>=2.10.0->tensorflowjs) (2.0.1)\n",
      "Requirement already satisfied: wrapt>=1.11.0 in c:\\users\\fabian.castano\\appdata\\local\\packages\\pythonsoftwarefoundation.python.3.10_qbz5n2kfra8p0\\localcache\\local-packages\\python310\\site-packages (from tensorflow<3,>=2.10.0->tensorflowjs) (1.14.1)\n",
      "Requirement already satisfied: tensorflow-io-gcs-filesystem>=0.23.1 in c:\\users\\fabian.castano\\appdata\\local\\packages\\pythonsoftwarefoundation.python.3.10_qbz5n2kfra8p0\\localcache\\local-packages\\python310\\site-packages (from tensorflow<3,>=2.10.0->tensorflowjs) (0.27.0)\n",
      "Requirement already satisfied: grpcio<2.0,>=1.24.3 in c:\\users\\fabian.castano\\appdata\\local\\packages\\pythonsoftwarefoundation.python.3.10_qbz5n2kfra8p0\\localcache\\local-packages\\python310\\site-packages (from tensorflow<3,>=2.10.0->tensorflowjs) (1.50.0)\n",
      "Requirement already satisfied: tensorboard<2.11,>=2.10 in c:\\users\\fabian.castano\\appdata\\local\\packages\\pythonsoftwarefoundation.python.3.10_qbz5n2kfra8p0\\localcache\\local-packages\\python310\\site-packages (from tensorflow<3,>=2.10.0->tensorflowjs) (2.10.1)\n",
      "Requirement already satisfied: tensorflow-estimator<2.11,>=2.10.0 in c:\\users\\fabian.castano\\appdata\\local\\packages\\pythonsoftwarefoundation.python.3.10_qbz5n2kfra8p0\\localcache\\local-packages\\python310\\site-packages (from tensorflow<3,>=2.10.0->tensorflowjs) (2.10.0)\n",
      "Requirement already satisfied: keras<2.11,>=2.10.0 in c:\\users\\fabian.castano\\appdata\\local\\packages\\pythonsoftwarefoundation.python.3.10_qbz5n2kfra8p0\\localcache\\local-packages\\python310\\site-packages (from tensorflow<3,>=2.10.0->tensorflowjs) (2.10.0)\n",
      "Requirement already satisfied: wheel<1.0,>=0.23.0 in c:\\users\\fabian.castano\\appdata\\local\\packages\\pythonsoftwarefoundation.python.3.10_qbz5n2kfra8p0\\localcache\\local-packages\\python310\\site-packages (from astunparse>=1.6.0->tensorflow<3,>=2.10.0->tensorflowjs) (0.37.1)\n",
      "Collecting markdown-it-py>=2.2.0 (from rich>=11.1->flax>=0.6.2->tensorflowjs)\n",
      "  Downloading markdown_it_py-3.0.0-py3-none-any.whl (87 kB)\n",
      "     ---------------------------------------- 87.5/87.5 kB 1.2 MB/s eta 0:00:00\n",
      "Requirement already satisfied: pygments<3.0.0,>=2.13.0 in c:\\users\\fabian.castano\\appdata\\local\\packages\\pythonsoftwarefoundation.python.3.10_qbz5n2kfra8p0\\localcache\\local-packages\\python310\\site-packages (from rich>=11.1->flax>=0.6.2->tensorflowjs) (2.13.0)\n",
      "Requirement already satisfied: google-auth<3,>=1.6.3 in c:\\users\\fabian.castano\\appdata\\local\\packages\\pythonsoftwarefoundation.python.3.10_qbz5n2kfra8p0\\localcache\\local-packages\\python310\\site-packages (from tensorboard<2.11,>=2.10->tensorflow<3,>=2.10.0->tensorflowjs) (2.13.0)\n",
      "Requirement already satisfied: google-auth-oauthlib<0.5,>=0.4.1 in c:\\users\\fabian.castano\\appdata\\local\\packages\\pythonsoftwarefoundation.python.3.10_qbz5n2kfra8p0\\localcache\\local-packages\\python310\\site-packages (from tensorboard<2.11,>=2.10->tensorflow<3,>=2.10.0->tensorflowjs) (0.4.6)\n",
      "Requirement already satisfied: markdown>=2.6.8 in c:\\users\\fabian.castano\\appdata\\local\\packages\\pythonsoftwarefoundation.python.3.10_qbz5n2kfra8p0\\localcache\\local-packages\\python310\\site-packages (from tensorboard<2.11,>=2.10->tensorflow<3,>=2.10.0->tensorflowjs) (3.4.1)\n",
      "Requirement already satisfied: requests<3,>=2.21.0 in c:\\users\\fabian.castano\\appdata\\local\\packages\\pythonsoftwarefoundation.python.3.10_qbz5n2kfra8p0\\localcache\\local-packages\\python310\\site-packages (from tensorboard<2.11,>=2.10->tensorflow<3,>=2.10.0->tensorflowjs) (2.28.1)\n",
      "Requirement already satisfied: tensorboard-data-server<0.7.0,>=0.6.0 in c:\\users\\fabian.castano\\appdata\\local\\packages\\pythonsoftwarefoundation.python.3.10_qbz5n2kfra8p0\\localcache\\local-packages\\python310\\site-packages (from tensorboard<2.11,>=2.10->tensorflow<3,>=2.10.0->tensorflowjs) (0.6.1)\n",
      "Requirement already satisfied: tensorboard-plugin-wit>=1.6.0 in c:\\users\\fabian.castano\\appdata\\local\\packages\\pythonsoftwarefoundation.python.3.10_qbz5n2kfra8p0\\localcache\\local-packages\\python310\\site-packages (from tensorboard<2.11,>=2.10->tensorflow<3,>=2.10.0->tensorflowjs) (1.8.1)\n",
      "Requirement already satisfied: werkzeug>=1.0.1 in c:\\users\\fabian.castano\\appdata\\local\\packages\\pythonsoftwarefoundation.python.3.10_qbz5n2kfra8p0\\localcache\\local-packages\\python310\\site-packages (from tensorboard<2.11,>=2.10->tensorflow<3,>=2.10.0->tensorflowjs) (2.2.2)\n",
      "Collecting chex>=0.1.5 (from optax->flax>=0.6.2->tensorflowjs)\n",
      "  Downloading chex-0.1.82-py3-none-any.whl (94 kB)\n",
      "     ---------------------------------------- 94.8/94.8 kB 1.8 MB/s eta 0:00:00\n",
      "Collecting jaxlib>=0.1.37 (from optax->flax>=0.6.2->tensorflowjs)\n",
      "  Downloading jaxlib-0.4.14-cp310-cp310-win_amd64.whl (40.4 MB)\n",
      "     ---------------------------------------- 40.4/40.4 MB 1.5 MB/s eta 0:00:00\n",
      "Collecting etils[epath,epy] (from orbax-checkpoint->flax>=0.6.2->tensorflowjs)\n",
      "  Downloading etils-1.4.1-py3-none-any.whl (135 kB)\n",
      "     -------------------------------------- 135.8/135.8 kB 2.0 MB/s eta 0:00:00\n",
      "Requirement already satisfied: nest_asyncio in c:\\users\\fabian.castano\\appdata\\local\\packages\\pythonsoftwarefoundation.python.3.10_qbz5n2kfra8p0\\localcache\\local-packages\\python310\\site-packages (from orbax-checkpoint->flax>=0.6.2->tensorflowjs) (1.5.6)\n",
      "Collecting numpy>=1.12 (from flax>=0.6.2->tensorflowjs)\n",
      "  Downloading numpy-1.25.2-cp310-cp310-win_amd64.whl (15.6 MB)\n",
      "     ---------------------------------------- 15.6/15.6 MB 1.4 MB/s eta 0:00:00\n",
      "Collecting toolz>=0.9.0 (from chex>=0.1.5->optax->flax>=0.6.2->tensorflowjs)\n",
      "  Downloading toolz-0.12.0-py3-none-any.whl (55 kB)\n",
      "     -------------------------------------- 55.8/55.8 kB 970.1 kB/s eta 0:00:00\n",
      "Requirement already satisfied: cachetools<6.0,>=2.0.0 in c:\\users\\fabian.castano\\appdata\\local\\packages\\pythonsoftwarefoundation.python.3.10_qbz5n2kfra8p0\\localcache\\local-packages\\python310\\site-packages (from google-auth<3,>=1.6.3->tensorboard<2.11,>=2.10->tensorflow<3,>=2.10.0->tensorflowjs) (5.2.0)\n",
      "Requirement already satisfied: pyasn1-modules>=0.2.1 in c:\\users\\fabian.castano\\appdata\\local\\packages\\pythonsoftwarefoundation.python.3.10_qbz5n2kfra8p0\\localcache\\local-packages\\python310\\site-packages (from google-auth<3,>=1.6.3->tensorboard<2.11,>=2.10->tensorflow<3,>=2.10.0->tensorflowjs) (0.2.8)\n",
      "Requirement already satisfied: rsa<5,>=3.1.4 in c:\\users\\fabian.castano\\appdata\\local\\packages\\pythonsoftwarefoundation.python.3.10_qbz5n2kfra8p0\\localcache\\local-packages\\python310\\site-packages (from google-auth<3,>=1.6.3->tensorboard<2.11,>=2.10->tensorflow<3,>=2.10.0->tensorflowjs) (4.9)\n",
      "Requirement already satisfied: requests-oauthlib>=0.7.0 in c:\\users\\fabian.castano\\appdata\\local\\packages\\pythonsoftwarefoundation.python.3.10_qbz5n2kfra8p0\\localcache\\local-packages\\python310\\site-packages (from google-auth-oauthlib<0.5,>=0.4.1->tensorboard<2.11,>=2.10->tensorflow<3,>=2.10.0->tensorflowjs) (1.3.1)\n",
      "Collecting mdurl~=0.1 (from markdown-it-py>=2.2.0->rich>=11.1->flax>=0.6.2->tensorflowjs)\n",
      "  Downloading mdurl-0.1.2-py3-none-any.whl (10.0 kB)\n",
      "Requirement already satisfied: charset-normalizer<3,>=2 in c:\\users\\fabian.castano\\appdata\\local\\packages\\pythonsoftwarefoundation.python.3.10_qbz5n2kfra8p0\\localcache\\local-packages\\python310\\site-packages (from requests<3,>=2.21.0->tensorboard<2.11,>=2.10->tensorflow<3,>=2.10.0->tensorflowjs) (2.1.1)\n",
      "Requirement already satisfied: idna<4,>=2.5 in c:\\users\\fabian.castano\\appdata\\local\\packages\\pythonsoftwarefoundation.python.3.10_qbz5n2kfra8p0\\localcache\\local-packages\\python310\\site-packages (from requests<3,>=2.21.0->tensorboard<2.11,>=2.10->tensorflow<3,>=2.10.0->tensorflowjs) (3.4)\n",
      "Requirement already satisfied: urllib3<1.27,>=1.21.1 in c:\\users\\fabian.castano\\appdata\\local\\packages\\pythonsoftwarefoundation.python.3.10_qbz5n2kfra8p0\\localcache\\local-packages\\python310\\site-packages (from requests<3,>=2.21.0->tensorboard<2.11,>=2.10->tensorflow<3,>=2.10.0->tensorflowjs) (1.26.12)\n",
      "Requirement already satisfied: certifi>=2017.4.17 in c:\\users\\fabian.castano\\appdata\\local\\packages\\pythonsoftwarefoundation.python.3.10_qbz5n2kfra8p0\\localcache\\local-packages\\python310\\site-packages (from requests<3,>=2.21.0->tensorboard<2.11,>=2.10->tensorflow<3,>=2.10.0->tensorflowjs) (2022.9.24)\n",
      "Requirement already satisfied: MarkupSafe>=2.1.1 in c:\\users\\fabian.castano\\appdata\\local\\packages\\pythonsoftwarefoundation.python.3.10_qbz5n2kfra8p0\\localcache\\local-packages\\python310\\site-packages (from werkzeug>=1.0.1->tensorboard<2.11,>=2.10->tensorflow<3,>=2.10.0->tensorflowjs) (2.1.1)\n",
      "Collecting zipp (from etils[epath,epy]->orbax-checkpoint->flax>=0.6.2->tensorflowjs)\n",
      "  Downloading zipp-3.16.2-py3-none-any.whl (7.2 kB)\n",
      "Requirement already satisfied: pyasn1<0.5.0,>=0.4.6 in c:\\users\\fabian.castano\\appdata\\local\\packages\\pythonsoftwarefoundation.python.3.10_qbz5n2kfra8p0\\localcache\\local-packages\\python310\\site-packages (from pyasn1-modules>=0.2.1->google-auth<3,>=1.6.3->tensorboard<2.11,>=2.10->tensorflow<3,>=2.10.0->tensorflowjs) (0.4.8)\n",
      "Requirement already satisfied: oauthlib>=3.0.0 in c:\\users\\fabian.castano\\appdata\\local\\packages\\pythonsoftwarefoundation.python.3.10_qbz5n2kfra8p0\\localcache\\local-packages\\python310\\site-packages (from requests-oauthlib>=0.7.0->google-auth-oauthlib<0.5,>=0.4.1->tensorboard<2.11,>=2.10->tensorflow<3,>=2.10.0->tensorflowjs) (3.2.2)\n",
      "Building wheels for collected packages: jax\n",
      "  Building wheel for jax (pyproject.toml): started\n",
      "  Building wheel for jax (pyproject.toml): finished with status 'done'\n",
      "  Created wheel for jax: filename=jax-0.4.14-py3-none-any.whl size=1535495 sha256=532fe34a08715403e1cb4e2c13c2cba134d00f7f699a8ddec7927f904e48d9a6\n",
      "  Stored in directory: c:\\users\\fabian.castano\\appdata\\local\\pip\\cache\\wheels\\85\\52\\e7\\dfa571c9f9b879e3facaa1584f52be04c4c3d1e14054ef40ab\n",
      "Successfully built jax\n",
      "Installing collected packages: msgpack, zipp, toolz, PyYAML, packaging, numpy, mdurl, importlib_resources, etils, tensorstore, tensorflow-hub, ml-dtypes, markdown-it-py, rich, jaxlib, jax, orbax-checkpoint, chex, optax, flax, tensorflowjs\n",
      "  Attempting uninstall: packaging\n",
      "    Found existing installation: packaging 21.3\n",
      "    Uninstalling packaging-21.3:\n",
      "      Successfully uninstalled packaging-21.3\n",
      "  Attempting uninstall: numpy\n",
      "    Found existing installation: numpy 1.23.4\n",
      "    Uninstalling numpy-1.23.4:\n",
      "      Successfully uninstalled numpy-1.23.4\n",
      "Successfully installed PyYAML-6.0.1 chex-0.1.82 etils-1.4.1 flax-0.7.1 importlib_resources-6.0.0 jax-0.4.14 jaxlib-0.4.14 markdown-it-py-3.0.0 mdurl-0.1.2 ml-dtypes-0.2.0 msgpack-1.0.5 numpy-1.25.2 optax-0.1.7 orbax-checkpoint-0.3.2 packaging-20.9 rich-13.5.2 tensorflow-hub-0.12.0 tensorflowjs-3.21.0 tensorstore-0.1.40 toolz-0.12.0 zipp-3.16.2\n"
     ]
    },
    {
     "name": "stderr",
     "output_type": "stream",
     "text": [
      "\n",
      "[notice] A new release of pip is available: 23.1.2 -> 23.2.1\n",
      "[notice] To update, run: C:\\Users\\fabian.castano\\AppData\\Local\\Microsoft\\WindowsApps\\PythonSoftwareFoundation.Python.3.10_qbz5n2kfra8p0\\python.exe -m pip install --upgrade pip\n"
     ]
    }
   ],
   "source": [
    "#Para convertirlo a tensorflow.js, primero debemos instalar la libreria\n",
    "!pip install tensorflowjs"
   ]
  },
  {
   "cell_type": "code",
   "execution_count": 4,
   "metadata": {},
   "outputs": [],
   "source": [
    "#Crear carpeta donde se colocaran los archivos resultantes\n",
    "!mkdir carpeta_salida"
   ]
  },
  {
   "cell_type": "code",
   "execution_count": 5,
   "metadata": {},
   "outputs": [
    {
     "name": "stderr",
     "output_type": "stream",
     "text": [
      "2023-08-02 15:21:37.068785: W tensorflow/stream_executor/platform/default/dso_loader.cc:64] Could not load dynamic library 'cudart64_110.dll'; dlerror: cudart64_110.dll not found\n"
     ]
    }
   ],
   "source": [
    "#Realizar la exportacion a la carpeta de salida\n",
    "!\"C:\\Users\\fabian.castano\\AppData\\Roaming\\Python\\Python310\\Scripts\\tensorflowjs_converter\" --input_format keras Mossbauer_model_2.h5 carpeta_salida"
   ]
  }
 ],
 "metadata": {
  "kernelspec": {
   "display_name": "Python 3",
   "language": "python",
   "name": "python3"
  },
  "language_info": {
   "codemirror_mode": {
    "name": "ipython",
    "version": 3
   },
   "file_extension": ".py",
   "mimetype": "text/x-python",
   "name": "python",
   "nbconvert_exporter": "python",
   "pygments_lexer": "ipython3",
   "version": "3.10.11"
  },
  "orig_nbformat": 4
 },
 "nbformat": 4,
 "nbformat_minor": 2
}
